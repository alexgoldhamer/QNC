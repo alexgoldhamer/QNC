{
 "cells": [
  {
   "cell_type": "code",
   "execution_count": 1,
   "id": "8cb151a7",
   "metadata": {},
   "outputs": [
    {
     "name": "stdout",
     "output_type": "stream",
     "text": [
      "Correlation matrix:\n",
      " [[1.         0.87035456]\n",
      " [0.87035456 1.        ]]\n",
      "R(x,y) = 0.8703545613058227\n",
      "R(y,x) = 0.8703545613058227\n"
     ]
    }
   ],
   "source": [
    "import numpy as np\n",
    "\n",
    "# Data\n",
    "x = np.array([10.4, 10.8, 11.1, 10.2, 10.3, 10.2, 10.7, 10.5, 10.8, 11.2, 10.6, 11.4])\n",
    "y = np.array([7.4, 7.6, 7.9, 7.2, 7.4, 7.1, 7.4, 7.2, 7.8, 7.7, 7.8, 8.3])\n",
    "\n",
    "# Correlation matrix\n",
    "corr_matrix = np.corrcoef(x, y)\n",
    "\n",
    "# Extract correlation coefficients\n",
    "r_xy = corr_matrix[0, 1]\n",
    "r_yx = corr_matrix[1, 0]\n",
    "\n",
    "print(\"Correlation matrix:\\n\", corr_matrix)\n",
    "print(\"R(x,y) =\", r_xy)\n",
    "print(\"R(y,x) =\", r_yx)"
   ]
  },
  {
   "cell_type": "code",
   "execution_count": 1,
   "id": "18615aba",
   "metadata": {},
   "outputs": [
    {
     "name": "stdout",
     "output_type": "stream",
     "text": [
      "Correlation r = 0.8703545613058227\n",
      "Standard error (z scale) = 0.3333333333333333\n",
      "95% CI for r: [0.592, 0.963]\n"
     ]
    }
   ],
   "source": [
    "import numpy as np\n",
    "\n",
    "# Data\n",
    "x = np.array([10.4, 10.8, 11.1, 10.2, 10.3, 10.2, 10.7, 10.5, 10.8, 11.2, 10.6, 11.4])\n",
    "y = np.array([7.4, 7.6, 7.9, 7.2, 7.4, 7.1, 7.4, 7.2, 7.8, 7.7, 7.8, 8.3])\n",
    "\n",
    "n = len(x)\n",
    "r = np.corrcoef(x, y)[0, 1]\n",
    "\n",
    "# Fisher z transform\n",
    "z = 0.5 * np.log((1 + r) / (1 - r))\n",
    "\n",
    "# Standard error in z\n",
    "se_z = 1 / np.sqrt(n - 3)\n",
    "\n",
    "# 95% CI in z\n",
    "z_crit = 1.96\n",
    "z_lower, z_upper = z - z_crit * se_z, z + z_crit * se_z\n",
    "\n",
    "# Convert back to r\n",
    "r_lower = (np.exp(2*z_lower) - 1) / (np.exp(2*z_lower) + 1)\n",
    "r_upper = (np.exp(2*z_upper) - 1) / (np.exp(2*z_upper) + 1)\n",
    "\n",
    "print(\"Correlation r =\", r)\n",
    "print(\"Standard error (z scale) =\", se_z)\n",
    "print(\"95% CI for r: [{:.3f}, {:.3f}]\".format(r_lower, r_upper))"
   ]
  },
  {
   "cell_type": "code",
   "execution_count": 2,
   "id": "2b24f1bf",
   "metadata": {},
   "outputs": [
    {
     "name": "stdout",
     "output_type": "stream",
     "text": [
      "Statistical power for n=12, r=0.5: 0.378\n",
      "Required sample size for r>=0.5 with 80% power: 30\n"
     ]
    }
   ],
   "source": [
    "import numpy as np\n",
    "from statsmodels.stats.power import NormalIndPower\n",
    "from scipy.stats import norm\n",
    "\n",
    "# Function to compute power for correlation\n",
    "def correlation_power(n, r_alt, alpha=0.05):\n",
    "    \"\"\"\n",
    "    n       : sample size\n",
    "    r_alt   : true correlation under alternative\n",
    "    alpha   : significance level (two-tailed)\n",
    "    \"\"\"\n",
    "    # Fisher z-transform\n",
    "    z0 = 0  # null correlation r=0\n",
    "    z1 = 0.5 * np.log((1 + r_alt) / (1 - r_alt))\n",
    "    \n",
    "    se = 1 / np.sqrt(n - 3)\n",
    "    \n",
    "    # Critical z-value for two-tailed test\n",
    "    z_alpha = norm.ppf(1 - alpha/2)\n",
    "    \n",
    "    # Power calculation\n",
    "    power = norm.cdf((z1 - z0)/se - z_alpha) + (1 - norm.cdf((z1 - z0)/se + z_alpha))\n",
    "    return power\n",
    "\n",
    "# Example: compute power for n=12 and r_alt=0.5\n",
    "n = 12\n",
    "r_alt = 0.5\n",
    "alpha = 0.05\n",
    "power = correlation_power(n, r_alt, alpha)\n",
    "print(f\"Statistical power for n={n}, r={r_alt}: {power:.3f}\")\n",
    "\n",
    "# Function to compute required sample size for desired power\n",
    "def required_sample_size(r_alt, power_target=0.8, alpha=0.05):\n",
    "    n = 4  # minimum starting sample size\n",
    "    while True:\n",
    "        if correlation_power(n, r_alt, alpha) >= power_target:\n",
    "            return n\n",
    "        n += 1\n",
    "\n",
    "# Example: required sample size to detect r >= 0.5 with 80% power\n",
    "n_required = required_sample_size(r_alt=0.5, power_target=0.8, alpha=0.05)\n",
    "print(f\"Required sample size for r>=0.5 with 80% power: {n_required}\")"
   ]
  }
 ],
 "metadata": {
  "kernelspec": {
   "display_name": "Python 3",
   "language": "python",
   "name": "python3"
  },
  "language_info": {
   "codemirror_mode": {
    "name": "ipython",
    "version": 3
   },
   "file_extension": ".py",
   "mimetype": "text/x-python",
   "name": "python",
   "nbconvert_exporter": "python",
   "pygments_lexer": "ipython3",
   "version": "3.13.7"
  }
 },
 "nbformat": 4,
 "nbformat_minor": 5
}
